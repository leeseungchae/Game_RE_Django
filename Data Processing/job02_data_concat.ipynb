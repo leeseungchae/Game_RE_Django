{
 "cells": [
  {
   "cell_type": "markdown",
   "source": [
    "1. 모듈 불러오기"
   ],
   "metadata": {
    "collapsed": false
   }
  },
  {
   "cell_type": "code",
   "execution_count": 24,
   "outputs": [],
   "source": [
    "import pandas as pd\n",
    "import glob"
   ],
   "metadata": {
    "collapsed": false,
    "pycharm": {
     "name": "#%%\n"
    }
   }
  },
  {
   "cell_type": "markdown",
   "source": [
    "2. 데이터 합치기(1차)"
   ],
   "metadata": {
    "collapsed": false
   }
  },
  {
   "cell_type": "code",
   "execution_count": 30,
   "outputs": [],
   "source": [
    "df1 = pd.read_csv('./Output/concat/GameData.csv')\n",
    "df2 = pd.read_csv('./Output/concat/Game_reviews_ALL_Duplicates.csv')\n",
    "\n",
    "df1 = pd.DataFrame(df1)\n",
    "df2 = pd.DataFrame(df2)\n",
    "\n",
    "df3 = pd.concat([df1,df2], ignore_index=True)\n",
    "df3.dropna()\n",
    "df3 =df3.drop_duplicates(['title'])\n",
    "df3\n",
    "# df = pd.read_csv('./crawling_data/reviews_2022.csv')\n",
    "df3.to_csv('./Datasets/cleaned_game_Data.csv',encoding='utf-8-sig')\n"
   ],
   "metadata": {
    "collapsed": false,
    "pycharm": {
     "name": "#%%\n"
    }
   }
  },
  {
   "cell_type": "markdown",
   "source": [
    "3. 데이터 합치기(2차)"
   ],
   "metadata": {
    "collapsed": false
   }
  },
  {
   "cell_type": "code",
   "execution_count": null,
   "metadata": {
    "collapsed": true
   },
   "outputs": [],
   "source": [
    "data_paths = glob.glob('./Output/concat/*') #전체 불러오기(1번 제외)\n",
    "print(data_paths)\n",
    "df = pd.DataFrame()\n",
    "for path in data_paths[1:]:\n",
    "    df_temp = pd.read_csv(path, index_col=0)\n",
    "    df = pd.concat([df, df_temp], ignore_index=True,\n",
    "              axis='rows')\n",
    "df_temp = pd.read_csv(data_paths[0])\n",
    "df = pd.concat([df, df_temp], ignore_index=True, # 1번 이랑 전체 합치기\n",
    "              axis='rows')\n",
    "df.info()"
   ]
  },
  {
   "cell_type": "markdown",
   "source": [
    "4. 원하는 컬럼만 사용"
   ],
   "metadata": {
    "collapsed": false
   }
  },
  {
   "cell_type": "code",
   "execution_count": null,
   "outputs": [],
   "source": [
    "df= df[[\"title\",\"reviews\",\"scores\",\"genres\"]]\n",
    "df =df.drop_duplicates()\n",
    "df['genre'] =df['genre'].str.strip()"
   ],
   "metadata": {
    "collapsed": false,
    "pycharm": {
     "name": "#%%\n"
    }
   }
  },
  {
   "cell_type": "markdown",
   "source": [
    "5. 저장"
   ],
   "metadata": {
    "collapsed": false
   }
  },
  {
   "cell_type": "code",
   "execution_count": null,
   "outputs": [],
   "source": [
    "df.to_csv('./Datasets/.csv',encoding='utf-8-sig')"
   ],
   "metadata": {
    "collapsed": false,
    "pycharm": {
     "name": "#%%\n"
    }
   }
  }
 ],
 "metadata": {
  "kernelspec": {
   "display_name": "Python 3",
   "language": "python",
   "name": "python3"
  },
  "language_info": {
   "codemirror_mode": {
    "name": "ipython",
    "version": 2
   },
   "file_extension": ".py",
   "mimetype": "text/x-python",
   "name": "python",
   "nbconvert_exporter": "python",
   "pygments_lexer": "ipython2",
   "version": "2.7.6"
  }
 },
 "nbformat": 4,
 "nbformat_minor": 0
}